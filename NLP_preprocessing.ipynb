{
  "nbformat": 4,
  "nbformat_minor": 0,
  "metadata": {
    "colab": {
      "name": "NLP_preprocessing.ipynb",
      "provenance": [],
      "collapsed_sections": []
    },
    "kernelspec": {
      "name": "python3",
      "display_name": "Python 3"
    },
    "accelerator": "GPU"
  },
  "cells": [
    {
      "cell_type": "markdown",
      "metadata": {
        "id": "q26BfBYRwOZ5",
        "colab_type": "text"
      },
      "source": [
        "**Stemming**"
      ]
    },
    {
      "cell_type": "code",
      "metadata": {
        "id": "VuaZVeZvuG0V",
        "colab_type": "code",
        "colab": {}
      },
      "source": [
        "import nltk\n",
        "from nltk.stem import PorterStemmer\n",
        "from nltk.corpus import stopwords"
      ],
      "execution_count": 1,
      "outputs": []
    },
    {
      "cell_type": "code",
      "metadata": {
        "id": "8dEHf1nMv9eJ",
        "colab_type": "code",
        "colab": {
          "base_uri": "https://localhost:8080/",
          "height": 136
        },
        "outputId": "d6163d6b-59a2-4421-b98a-2b2ab9c0ef9a"
      },
      "source": [
        "nltk.download('punkt')\n",
        "nltk.download('stopwords')\n",
        "nltk.download('wordnet')"
      ],
      "execution_count": 2,
      "outputs": [
        {
          "output_type": "stream",
          "text": [
            "[nltk_data] Downloading package punkt to /root/nltk_data...\n",
            "[nltk_data]   Unzipping tokenizers/punkt.zip.\n",
            "[nltk_data] Downloading package stopwords to /root/nltk_data...\n",
            "[nltk_data]   Unzipping corpora/stopwords.zip.\n",
            "[nltk_data] Downloading package wordnet to /root/nltk_data...\n",
            "[nltk_data]   Unzipping corpora/wordnet.zip.\n"
          ],
          "name": "stdout"
        },
        {
          "output_type": "execute_result",
          "data": {
            "text/plain": [
              "True"
            ]
          },
          "metadata": {
            "tags": []
          },
          "execution_count": 2
        }
      ]
    },
    {
      "cell_type": "code",
      "metadata": {
        "id": "wR_dvvr5vfHI",
        "colab_type": "code",
        "colab": {}
      },
      "source": [
        "paragraph = \"\"\"Thank you all so very much. Thank you to the Academy.Thank you to all of you in this room. I have to congratulate the other incredible \n",
        "nominees this year. The Revenant was the product of the tireless efforts of an unbelievable cast and crew. First off, to my brother in this endeavor, \n",
        "Mr. Tom Hardy. Tom, your talent on screen can only be surpassed by your friendship off screen … thank you for creating a t ranscendent cinematic experience. \n",
        "Thank you to everybody at Fox and New Regency … my entire team. I have to thank everyone from the very onset of my career … To my parents; none of this \n",
        "would be possible without you. And to my friends, I love you dearly; you know who you are. And lastly,I just want to say this: Making The Revenant was \n",
        "about man's relationship to the natural world. A world that we collectively felt in 2015 as the hottest year in recorded history. Our production needed \n",
        "to move to the southern tip of this planet just to be able to find snow. Climate change is real, it is happening right now. It is the most urgent threat \n",
        "facing our entire species, and we need to work collectively together and stop procrastinating. We need to support leaders around the world who do not \n",
        "speak for the big polluters, but who speak for all of humanity, for the indigenous people of the world, for the billions and billions of underprivileged \n",
        "people out there who would be most affected by this. For our children’s children, and for those people out there whose voices have been drowned out by \n",
        "the politics of greed. I thank you all for this amazing award tonight. Let us not take this planet for granted. I do not take tonight for granted. \n",
        "Thank you so very much.\"\"\""
      ],
      "execution_count": 3,
      "outputs": []
    },
    {
      "cell_type": "code",
      "metadata": {
        "id": "6DBrkfsJvsuu",
        "colab_type": "code",
        "colab": {}
      },
      "source": [
        "sentences=nltk.sent_tokenize(paragraph)"
      ],
      "execution_count": 4,
      "outputs": []
    },
    {
      "cell_type": "code",
      "metadata": {
        "id": "dfLk6cdCv05M",
        "colab_type": "code",
        "colab": {}
      },
      "source": [
        "stemmer=PorterStemmer()"
      ],
      "execution_count": 5,
      "outputs": []
    },
    {
      "cell_type": "code",
      "metadata": {
        "id": "A28Fhw_bwCfV",
        "colab_type": "code",
        "colab": {}
      },
      "source": [
        "for i in range(len(sentences)):\n",
        "  words=nltk.word_tokenize(sentences[i])\n",
        "  words=[stemmer.stem(word) for word in words if word not in set(stopwords.words('english'))]\n",
        "  sentences[i]=' '.join(words)"
      ],
      "execution_count": 6,
      "outputs": []
    },
    {
      "cell_type": "code",
      "metadata": {
        "id": "A7BNOIu3wlWo",
        "colab_type": "code",
        "colab": {
          "base_uri": "https://localhost:8080/",
          "height": 35
        },
        "outputId": "2fb991bd-29fb-4969-8010-fe83f1c8ee15"
      },
      "source": [
        "sentences[0]"
      ],
      "execution_count": 7,
      "outputs": [
        {
          "output_type": "execute_result",
          "data": {
            "application/vnd.google.colaboratory.intrinsic": {
              "type": "string"
            },
            "text/plain": [
              "'thank much .'"
            ]
          },
          "metadata": {
            "tags": []
          },
          "execution_count": 7
        }
      ]
    },
    {
      "cell_type": "code",
      "metadata": {
        "id": "aQ3ztDe-wrtJ",
        "colab_type": "code",
        "colab": {}
      },
      "source": [
        ""
      ],
      "execution_count": 7,
      "outputs": []
    },
    {
      "cell_type": "markdown",
      "metadata": {
        "id": "55M0x8jRw6tJ",
        "colab_type": "text"
      },
      "source": [
        "**Lemmatization**"
      ]
    },
    {
      "cell_type": "code",
      "metadata": {
        "id": "jtTEXnfjw-Dy",
        "colab_type": "code",
        "colab": {}
      },
      "source": [
        "import nltk\n",
        "from nltk.stem import WordNetLemmatizer\n",
        "from nltk.corpus import stopwords"
      ],
      "execution_count": 8,
      "outputs": []
    },
    {
      "cell_type": "code",
      "metadata": {
        "id": "-80IGWS9xJ0J",
        "colab_type": "code",
        "colab": {}
      },
      "source": [
        "paragraph = \"\"\"Thank you all so very much. Thank you to the Academy.Thank you to all of you in this room. I have to congratulate the other incredible \n",
        "nominees this year. The Revenant was the product of the tireless efforts of an unbelievable cast and crew. First off, to my brother in this endeavor, \n",
        "Mr. Tom Hardy. Tom, your talent on screen can only be surpassed by your friendship off screen … thank you for creating a t ranscendent cinematic experience. \n",
        "Thank you to everybody at Fox and New Regency … my entire team. I have to thank everyone from the very onset of my career … To my parents; none of this \n",
        "would be possible without you. And to my friends, I love you dearly; you know who you are. And lastly,I just want to say this: Making The Revenant was \n",
        "about man's relationship to the natural world. A world that we collectively felt in 2015 as the hottest year in recorded history. Our production needed \n",
        "to move to the southern tip of this planet just to be able to find snow. Climate change is real, it is happening right now. It is the most urgent threat \n",
        "facing our entire species, and we need to work collectively together and stop procrastinating. We need to support leaders around the world who do not \n",
        "speak for the big polluters, but who speak for all of humanity, for the indigenous people of the world, for the billions and billions of underprivileged \n",
        "people out there who would be most affected by this. For our children’s children, and for those people out there whose voices have been drowned out by \n",
        "the politics of greed. I thank you all for this amazing award tonight. Let us not take this planet for granted. I do not take tonight for granted. \n",
        "Thank you so very much.\"\"\""
      ],
      "execution_count": 9,
      "outputs": []
    },
    {
      "cell_type": "code",
      "metadata": {
        "id": "6waQJRoAxNDr",
        "colab_type": "code",
        "colab": {}
      },
      "source": [
        "sentences=nltk.sent_tokenize(paragraph)"
      ],
      "execution_count": 10,
      "outputs": []
    },
    {
      "cell_type": "code",
      "metadata": {
        "id": "8jQl3IipxSS9",
        "colab_type": "code",
        "colab": {}
      },
      "source": [
        "lemmatizer=WordNetLemmatizer()"
      ],
      "execution_count": 11,
      "outputs": []
    },
    {
      "cell_type": "code",
      "metadata": {
        "id": "qIMYVonRxdk7",
        "colab_type": "code",
        "colab": {}
      },
      "source": [
        "for i in range(len(sentences)):\n",
        "  words=nltk.word_tokenize(sentences[i])\n",
        "  words=[lemmatizer.lemmatize(word) for word in words if word not in set(stopwords.words('english'))]\n",
        "  sentences[i]=' '.join(words)"
      ],
      "execution_count": 12,
      "outputs": []
    },
    {
      "cell_type": "code",
      "metadata": {
        "id": "czXho7VIx1zY",
        "colab_type": "code",
        "colab": {}
      },
      "source": [
        ""
      ],
      "execution_count": 12,
      "outputs": []
    },
    {
      "cell_type": "markdown",
      "metadata": {
        "id": "qtgJmjmTyAEL",
        "colab_type": "text"
      },
      "source": [
        "**Bag of Words**"
      ]
    },
    {
      "cell_type": "code",
      "metadata": {
        "id": "-NK2ORKnyBzH",
        "colab_type": "code",
        "colab": {}
      },
      "source": [
        "import nltk"
      ],
      "execution_count": 13,
      "outputs": []
    },
    {
      "cell_type": "code",
      "metadata": {
        "id": "6WcAt4GWybxu",
        "colab_type": "code",
        "colab": {}
      },
      "source": [
        "paragraph = \"\"\"Thank you all so very much. Thank you to the Academy.Thank you to all of you in this room. I have to congratulate the other incredible \n",
        "nominees this year. The Revenant was the product of the tireless efforts of an unbelievable cast and crew. First off, to my brother in this endeavor, \n",
        "Mr. Tom Hardy. Tom, your talent on screen can only be surpassed by your friendship off screen … thank you for creating a t ranscendent cinematic experience. \n",
        "Thank you to everybody at Fox and New Regency … my entire team. I have to thank everyone from the very onset of my career … To my parents; none of this \n",
        "would be possible without you. And to my friends, I love you dearly; you know who you are. And lastly,I just want to say this: Making The Revenant was \n",
        "about man's relationship to the natural world. A world that we collectively felt in 2015 as the hottest year in recorded history. Our production needed \n",
        "to move to the southern tip of this planet just to be able to find snow. Climate change is real, it is happening right now. It is the most urgent threat \n",
        "facing our entire species, and we need to work collectively together and stop procrastinating. We need to support leaders around the world who do not \n",
        "speak for the big polluters, but who speak for all of humanity, for the indigenous people of the world, for the billions and billions of underprivileged \n",
        "people out there who would be most affected by this. For our children’s children, and for those people out there whose voices have been drowned out by \n",
        "the politics of greed. I thank you all for this amazing award tonight. Let us not take this planet for granted. I do not take tonight for granted. \n",
        "Thank you so very much.\"\"\""
      ],
      "execution_count": 14,
      "outputs": []
    },
    {
      "cell_type": "code",
      "metadata": {
        "id": "FqfnAzyFydgr",
        "colab_type": "code",
        "colab": {}
      },
      "source": [
        "import re\n",
        "from nltk.stem.porter import PorterStemmer\n",
        "from nltk.corpus import stopwords\n",
        "from nltk.stem import WordNetLemmatizer"
      ],
      "execution_count": 15,
      "outputs": []
    },
    {
      "cell_type": "code",
      "metadata": {
        "id": "hjMk7pnnyr5w",
        "colab_type": "code",
        "colab": {}
      },
      "source": [
        "stemmer=PorterStemmer()"
      ],
      "execution_count": 16,
      "outputs": []
    },
    {
      "cell_type": "code",
      "metadata": {
        "id": "rXCneW_EyyRA",
        "colab_type": "code",
        "colab": {}
      },
      "source": [
        "lemmatizer=WordNetLemmatizer()"
      ],
      "execution_count": 17,
      "outputs": []
    },
    {
      "cell_type": "code",
      "metadata": {
        "id": "TcLqdnU5y1Q6",
        "colab_type": "code",
        "colab": {}
      },
      "source": [
        "sentences=nltk.sent_tokenize(paragraph)"
      ],
      "execution_count": 18,
      "outputs": []
    },
    {
      "cell_type": "code",
      "metadata": {
        "id": "jVrUyuNky97l",
        "colab_type": "code",
        "colab": {}
      },
      "source": [
        "corpus=[]"
      ],
      "execution_count": 19,
      "outputs": []
    },
    {
      "cell_type": "code",
      "metadata": {
        "id": "_8_Y8d02zIMh",
        "colab_type": "code",
        "colab": {}
      },
      "source": [
        "for i in range(len(sentences)):\n",
        "  review=re.sub('[^a-zA-Z]',' ',sentences[i])\n",
        "  review.lower()\n",
        "  review.split()\n",
        "  review=[stemmer.stem(word) for word in words if word not in set(stopwords.words('english'))]\n",
        "  review=' '.join(review)\n",
        "  corpus.append(review)"
      ],
      "execution_count": 20,
      "outputs": []
    },
    {
      "cell_type": "code",
      "metadata": {
        "id": "f5JIgYstzxVX",
        "colab_type": "code",
        "colab": {}
      },
      "source": [
        "from sklearn.feature_extraction.text import CountVectorizer\n",
        "cv=CountVectorizer()\n",
        "X=cv.fit_transform(corpus).toarray()"
      ],
      "execution_count": 21,
      "outputs": []
    },
    {
      "cell_type": "code",
      "metadata": {
        "id": "evnjnE2t0G6d",
        "colab_type": "code",
        "colab": {}
      },
      "source": [
        ""
      ],
      "execution_count": 21,
      "outputs": []
    },
    {
      "cell_type": "markdown",
      "metadata": {
        "id": "Cfh262WcBBiM",
        "colab_type": "text"
      },
      "source": [
        "**TF-IDF**"
      ]
    },
    {
      "cell_type": "code",
      "metadata": {
        "id": "jnCsW7hfBDEb",
        "colab_type": "code",
        "colab": {}
      },
      "source": [
        "import nltk"
      ],
      "execution_count": 22,
      "outputs": []
    },
    {
      "cell_type": "code",
      "metadata": {
        "id": "yAyEi1e0Bp4k",
        "colab_type": "code",
        "colab": {}
      },
      "source": [
        "paragraph = \"\"\"Thank you all so very much. Thank you to the Academy.Thank you to all of you in this room. I have to congratulate the other incredible \n",
        "nominees this year. The Revenant was the product of the tireless efforts of an unbelievable cast and crew. First off, to my brother in this endeavor, \n",
        "Mr. Tom Hardy. Tom, your talent on screen can only be surpassed by your friendship off screen … thank you for creating a t ranscendent cinematic experience. \n",
        "Thank you to everybody at Fox and New Regency … my entire team. I have to thank everyone from the very onset of my career … To my parents; none of this \n",
        "would be possible without you. And to my friends, I love you dearly; you know who you are. And lastly,I just want to say this: Making The Revenant was \n",
        "about man's relationship to the natural world. A world that we collectively felt in 2015 as the hottest year in recorded history. Our production needed \n",
        "to move to the southern tip of this planet just to be able to find snow. Climate change is real, it is happening right now. It is the most urgent threat \n",
        "facing our entire species, and we need to work collectively together and stop procrastinating. We need to support leaders around the world who do not \n",
        "speak for the big polluters, but who speak for all of humanity, for the indigenous people of the world, for the billions and billions of underprivileged \n",
        "people out there who would be most affected by this. For our children’s children, and for those people out there whose voices have been drowned out by \n",
        "the politics of greed. I thank you all for this amazing award tonight. Let us not take this planet for granted. I do not take tonight for granted. \n",
        "Thank you so very much.\"\"\""
      ],
      "execution_count": 23,
      "outputs": []
    },
    {
      "cell_type": "code",
      "metadata": {
        "id": "78q_kq_9Peqa",
        "colab_type": "code",
        "colab": {}
      },
      "source": [
        "import re\n",
        "from nltk.stem import PorterStemmer,WordNetLemmatizer\n",
        "from nltk.corpus import stopwords"
      ],
      "execution_count": 24,
      "outputs": []
    },
    {
      "cell_type": "code",
      "metadata": {
        "id": "X8vpqBARBzx1",
        "colab_type": "code",
        "colab": {}
      },
      "source": [
        "sentences=nltk.sent_tokenize(paragraph)"
      ],
      "execution_count": 25,
      "outputs": []
    },
    {
      "cell_type": "code",
      "metadata": {
        "id": "JkilpY00CNvz",
        "colab_type": "code",
        "colab": {}
      },
      "source": [
        "ps=PorterStemmer()\n",
        "wordnet=WordNetLemmatizer()"
      ],
      "execution_count": 26,
      "outputs": []
    },
    {
      "cell_type": "code",
      "metadata": {
        "id": "lbBYqNlRPQpq",
        "colab_type": "code",
        "colab": {}
      },
      "source": [
        "corpus=[]"
      ],
      "execution_count": 27,
      "outputs": []
    },
    {
      "cell_type": "code",
      "metadata": {
        "id": "i4B-ROm-PTkW",
        "colab_type": "code",
        "colab": {}
      },
      "source": [
        "for i in range(len(sentences)):\n",
        "  review=re.sub('[^a-zA-Z]',' ',sentences[i])\n",
        "  review=review.lower()\n",
        "  review=review.split()\n",
        "  review=[ps.stem(word) for word in review if word not in set(stopwords.words('english'))]\n",
        "  review=' '.join(review)\n",
        "  corpus.append(review)"
      ],
      "execution_count": 28,
      "outputs": []
    },
    {
      "cell_type": "code",
      "metadata": {
        "id": "hufU-pIIQBSS",
        "colab_type": "code",
        "colab": {}
      },
      "source": [
        "from sklearn.feature_extraction.text import TfidfVectorizer\n",
        "cv = TfidfVectorizer()\n",
        "X = cv.fit_transform(corpus).toarray()"
      ],
      "execution_count": 29,
      "outputs": []
    },
    {
      "cell_type": "code",
      "metadata": {
        "id": "TD5RGm51QT3g",
        "colab_type": "code",
        "colab": {
          "base_uri": "https://localhost:8080/",
          "height": 238
        },
        "outputId": "9a07f809-9cea-434d-8ed9-e9e4df2b8283"
      },
      "source": [
        "X"
      ],
      "execution_count": 30,
      "outputs": [
        {
          "output_type": "execute_result",
          "data": {
            "text/plain": [
              "array([[0.        , 0.        , 0.        , ..., 0.        , 0.        ,\n",
              "        0.        ],\n",
              "       [0.        , 0.54431266, 0.        , ..., 0.        , 0.        ,\n",
              "        0.        ],\n",
              "       [0.        , 0.        , 0.        , ..., 0.        , 0.        ,\n",
              "        0.45255581],\n",
              "       ...,\n",
              "       [0.        , 0.        , 0.        , ..., 0.        , 0.        ,\n",
              "        0.        ],\n",
              "       [0.        , 0.        , 0.        , ..., 0.        , 0.        ,\n",
              "        0.        ],\n",
              "       [0.        , 0.        , 0.        , ..., 0.        , 0.        ,\n",
              "        0.        ]])"
            ]
          },
          "metadata": {
            "tags": []
          },
          "execution_count": 30
        }
      ]
    },
    {
      "cell_type": "code",
      "metadata": {
        "id": "AYA2LaENQWPP",
        "colab_type": "code",
        "colab": {}
      },
      "source": [
        ""
      ],
      "execution_count": 30,
      "outputs": []
    }
  ]
}